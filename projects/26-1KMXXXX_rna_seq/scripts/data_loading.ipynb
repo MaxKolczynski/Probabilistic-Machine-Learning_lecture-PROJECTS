{
 "cells": [
  {
   "cell_type": "code",
   "execution_count": 2,
   "metadata": {
    "colab": {
     "base_uri": "https://localhost:8080/"
    },
    "collapsed": true,
    "executionInfo": {
     "elapsed": 6652,
     "status": "ok",
     "timestamp": 1748857016442,
     "user": {
      "displayName": "Max von Kolczynski",
      "userId": "07480350159207998007"
     },
     "user_tz": -120
    },
    "id": "G7yjJWZGcYL_",
    "outputId": "17318582-b17e-4353-afce-f3ac3911fc6f"
   },
   "outputs": [
    {
     "name": "stdout",
     "output_type": "stream",
     "text": [
      "Collecting scanpy\n",
      "  Downloading scanpy-1.11.2-py3-none-any.whl.metadata (9.1 kB)\n",
      "Collecting anndata>=0.8 (from scanpy)\n",
      "  Downloading anndata-0.11.4-py3-none-any.whl.metadata (9.3 kB)\n",
      "Requirement already satisfied: h5py>=3.7.0 in /usr/local/lib/python3.11/dist-packages (from scanpy) (3.13.0)\n",
      "Requirement already satisfied: joblib in /usr/local/lib/python3.11/dist-packages (from scanpy) (1.5.0)\n",
      "Collecting legacy-api-wrap>=1.4.1 (from scanpy)\n",
      "  Downloading legacy_api_wrap-1.4.1-py3-none-any.whl.metadata (2.1 kB)\n",
      "Requirement already satisfied: matplotlib>=3.7.5 in /usr/local/lib/python3.11/dist-packages (from scanpy) (3.10.0)\n",
      "Requirement already satisfied: natsort in /usr/local/lib/python3.11/dist-packages (from scanpy) (8.4.0)\n",
      "Requirement already satisfied: networkx>=2.7.1 in /usr/local/lib/python3.11/dist-packages (from scanpy) (3.4.2)\n",
      "Requirement already satisfied: numba>=0.57.1 in /usr/local/lib/python3.11/dist-packages (from scanpy) (0.60.0)\n",
      "Requirement already satisfied: numpy>=1.24.1 in /usr/local/lib/python3.11/dist-packages (from scanpy) (2.0.2)\n",
      "Requirement already satisfied: packaging>=21.3 in /usr/local/lib/python3.11/dist-packages (from scanpy) (24.2)\n",
      "Requirement already satisfied: pandas>=1.5.3 in /usr/local/lib/python3.11/dist-packages (from scanpy) (2.2.2)\n",
      "Requirement already satisfied: patsy!=1.0.0 in /usr/local/lib/python3.11/dist-packages (from scanpy) (1.0.1)\n",
      "Requirement already satisfied: pynndescent>=0.5.13 in /usr/local/lib/python3.11/dist-packages (from scanpy) (0.5.13)\n",
      "Requirement already satisfied: scikit-learn>=1.1.3 in /usr/local/lib/python3.11/dist-packages (from scanpy) (1.6.1)\n",
      "Requirement already satisfied: scipy>=1.8.1 in /usr/local/lib/python3.11/dist-packages (from scanpy) (1.15.3)\n",
      "Requirement already satisfied: seaborn>=0.13.2 in /usr/local/lib/python3.11/dist-packages (from scanpy) (0.13.2)\n",
      "Collecting session-info2 (from scanpy)\n",
      "  Downloading session_info2-0.1.2-py3-none-any.whl.metadata (2.5 kB)\n",
      "Requirement already satisfied: statsmodels>=0.14.4 in /usr/local/lib/python3.11/dist-packages (from scanpy) (0.14.4)\n",
      "Requirement already satisfied: tqdm in /usr/local/lib/python3.11/dist-packages (from scanpy) (4.67.1)\n",
      "Requirement already satisfied: typing-extensions in /usr/local/lib/python3.11/dist-packages (from scanpy) (4.13.2)\n",
      "Requirement already satisfied: umap-learn>=0.5.6 in /usr/local/lib/python3.11/dist-packages (from scanpy) (0.5.7)\n",
      "Collecting array-api-compat!=1.5,>1.4 (from anndata>=0.8->scanpy)\n",
      "  Downloading array_api_compat-1.12.0-py3-none-any.whl.metadata (2.5 kB)\n",
      "Requirement already satisfied: contourpy>=1.0.1 in /usr/local/lib/python3.11/dist-packages (from matplotlib>=3.7.5->scanpy) (1.3.2)\n",
      "Requirement already satisfied: cycler>=0.10 in /usr/local/lib/python3.11/dist-packages (from matplotlib>=3.7.5->scanpy) (0.12.1)\n",
      "Requirement already satisfied: fonttools>=4.22.0 in /usr/local/lib/python3.11/dist-packages (from matplotlib>=3.7.5->scanpy) (4.58.0)\n",
      "Requirement already satisfied: kiwisolver>=1.3.1 in /usr/local/lib/python3.11/dist-packages (from matplotlib>=3.7.5->scanpy) (1.4.8)\n",
      "Requirement already satisfied: pillow>=8 in /usr/local/lib/python3.11/dist-packages (from matplotlib>=3.7.5->scanpy) (11.2.1)\n",
      "Requirement already satisfied: pyparsing>=2.3.1 in /usr/local/lib/python3.11/dist-packages (from matplotlib>=3.7.5->scanpy) (3.2.3)\n",
      "Requirement already satisfied: python-dateutil>=2.7 in /usr/local/lib/python3.11/dist-packages (from matplotlib>=3.7.5->scanpy) (2.9.0.post0)\n",
      "Requirement already satisfied: llvmlite<0.44,>=0.43.0dev0 in /usr/local/lib/python3.11/dist-packages (from numba>=0.57.1->scanpy) (0.43.0)\n",
      "Requirement already satisfied: pytz>=2020.1 in /usr/local/lib/python3.11/dist-packages (from pandas>=1.5.3->scanpy) (2025.2)\n",
      "Requirement already satisfied: tzdata>=2022.7 in /usr/local/lib/python3.11/dist-packages (from pandas>=1.5.3->scanpy) (2025.2)\n",
      "Requirement already satisfied: threadpoolctl>=3.1.0 in /usr/local/lib/python3.11/dist-packages (from scikit-learn>=1.1.3->scanpy) (3.6.0)\n",
      "Requirement already satisfied: six>=1.5 in /usr/local/lib/python3.11/dist-packages (from python-dateutil>=2.7->matplotlib>=3.7.5->scanpy) (1.17.0)\n",
      "Downloading scanpy-1.11.2-py3-none-any.whl (2.1 MB)\n",
      "\u001b[2K   \u001b[90m━━━━━━━━━━━━━━━━━━━━━━━━━━━━━━━━━━━━━━━━\u001b[0m \u001b[32m2.1/2.1 MB\u001b[0m \u001b[31m31.9 MB/s\u001b[0m eta \u001b[36m0:00:00\u001b[0m\n",
      "\u001b[?25hDownloading anndata-0.11.4-py3-none-any.whl (144 kB)\n",
      "\u001b[2K   \u001b[90m━━━━━━━━━━━━━━━━━━━━━━━━━━━━━━━━━━━━━━━━\u001b[0m \u001b[32m144.5/144.5 kB\u001b[0m \u001b[31m10.6 MB/s\u001b[0m eta \u001b[36m0:00:00\u001b[0m\n",
      "\u001b[?25hDownloading legacy_api_wrap-1.4.1-py3-none-any.whl (10.0 kB)\n",
      "Downloading session_info2-0.1.2-py3-none-any.whl (14 kB)\n",
      "Downloading array_api_compat-1.12.0-py3-none-any.whl (58 kB)\n",
      "\u001b[2K   \u001b[90m━━━━━━━━━━━━━━━━━━━━━━━━━━━━━━━━━━━━━━━━\u001b[0m \u001b[32m58.2/58.2 kB\u001b[0m \u001b[31m3.6 MB/s\u001b[0m eta \u001b[36m0:00:00\u001b[0m\n",
      "\u001b[?25hInstalling collected packages: session-info2, legacy-api-wrap, array-api-compat, anndata, scanpy\n",
      "Successfully installed anndata-0.11.4 array-api-compat-1.12.0 legacy-api-wrap-1.4.1 scanpy-1.11.2 session-info2-0.1.2\n"
     ]
    }
   ],
   "source": [
    "pip install scanpy"
   ]
  },
  {
   "cell_type": "code",
   "execution_count": 3,
   "metadata": {
    "executionInfo": {
     "elapsed": 13199,
     "status": "ok",
     "timestamp": 1748857033875,
     "user": {
      "displayName": "Max von Kolczynski",
      "userId": "07480350159207998007"
     },
     "user_tz": -120
    },
    "id": "6rI4-e-4lWAi"
   },
   "outputs": [],
   "source": [
    "import scanpy as sc"
   ]
  },
  {
   "cell_type": "code",
   "execution_count": 4,
   "metadata": {
    "colab": {
     "base_uri": "https://localhost:8080/"
    },
    "collapsed": true,
    "executionInfo": {
     "elapsed": 25472,
     "status": "ok",
     "timestamp": 1748857062648,
     "user": {
      "displayName": "Max von Kolczynski",
      "userId": "07480350159207998007"
     },
     "user_tz": -120
    },
    "id": "xzBcdgMifrFN",
    "outputId": "a6a2886f-29f8-4f75-b4c2-80c3c98677ad"
   },
   "outputs": [
    {
     "name": "stdout",
     "output_type": "stream",
     "text": [
      "Mounted at /content/drive\n"
     ]
    }
   ],
   "source": [
    "from google.colab import drive\n",
    "drive.mount('/content/drive')"
   ]
  },
  {
   "cell_type": "code",
   "execution_count": 5,
   "metadata": {
    "colab": {
     "base_uri": "https://localhost:8080/"
    },
    "collapsed": true,
    "executionInfo": {
     "elapsed": 2103,
     "status": "ok",
     "timestamp": 1748857065956,
     "user": {
      "displayName": "Max von Kolczynski",
      "userId": "07480350159207998007"
     },
     "user_tz": -120
    },
    "id": "G-Wmpa_Yiou_",
    "outputId": "b0eff697-1df0-4564-fc71-aaffa58b89c3"
   },
   "outputs": [
    {
     "name": "stdout",
     "output_type": "stream",
     "text": [
      "Files in GSM8440146:\n",
      "['GSM8440146_zhh1_barcodes.tsv.gz', 'GSM8440146_zhh1_features.tsv.gz', 'GSM8440146_zhh1_matrix.mtx.gz']\n",
      "Files in GSM8440147:\n",
      "['GSM8440147_zhh2_barcodes.tsv.gz', 'GSM8440147_zhh2_features.tsv.gz', 'GSM8440147_zhh2_matrix.mtx.gz']\n"
     ]
    }
   ],
   "source": [
    "import os\n",
    "\n",
    "folder_1 = '/content/drive/MyDrive/Colab_Notebooks/Project_26-1KMXXXX/data/GSE273941_RAW/GSM8440146'\n",
    "folder_2 = '/content/drive/MyDrive/Colab_Notebooks/Project_26-1KMXXXX/data/GSE273941_RAW/GSM8440147'\n",
    "\n",
    "print(\"Files in GSM8440146:\")\n",
    "print(os.listdir(folder_1))\n",
    "\n",
    "print(\"Files in GSM8440147:\")\n",
    "print(os.listdir(folder_2))"
   ]
  },
  {
   "cell_type": "code",
   "execution_count": 1,
   "metadata": {
    "executionInfo": {
     "elapsed": 13,
     "status": "ok",
     "timestamp": 1748857069177,
     "user": {
      "displayName": "Max von Kolczynski",
      "userId": "07480350159207998007"
     },
     "user_tz": -120
    },
    "id": "9wwjAyXVi5G7"
   },
   "outputs": [],
   "source": [
    "path_GSM8440146 = '/content/drive/MyDrive/Colab_Notebooks/Project_26-1KMXXXX/data/GSE273941_RAW/GSM8440146'\n",
    "path_GSM8440147 = '/content/drive/MyDrive/Colab_Notebooks/Project_26-1KMXXXX/data/GSE273941_RAW/GSM8440147'"
   ]
  },
  {
   "cell_type": "code",
   "execution_count": 8,
   "metadata": {
    "executionInfo": {
     "elapsed": 14440,
     "status": "ok",
     "timestamp": 1748857126613,
     "user": {
      "displayName": "Max von Kolczynski",
      "userId": "07480350159207998007"
     },
     "user_tz": -120
    },
    "id": "AOCGzbzyASiu"
   },
   "outputs": [],
   "source": [
    "adata_control = sc.read_10x_mtx(path_GSM8440146, prefix='GSM8440146_zhh1_', cache=True)\n",
    "adata_ACM_treated = sc.read_10x_mtx(path_GSM8440147, prefix='GSM8440147_zhh2_', cache=True)"
   ]
  },
  {
   "cell_type": "code",
   "execution_count": 9,
   "metadata": {
    "colab": {
     "base_uri": "https://localhost:8080/"
    },
    "executionInfo": {
     "elapsed": 6,
     "status": "ok",
     "timestamp": 1748857129434,
     "user": {
      "displayName": "Max von Kolczynski",
      "userId": "07480350159207998007"
     },
     "user_tz": -120
    },
    "id": "rXU0RiELkCfg",
    "outputId": "12314e2b-8eea-4957-81d8-89efe08108cc"
   },
   "outputs": [
    {
     "name": "stdout",
     "output_type": "stream",
     "text": [
      "AnnData object with n_obs × n_vars = 10000 × 36601\n",
      "    var: 'gene_ids', 'feature_types'\n",
      "AnnData object with n_obs × n_vars = 10000 × 36601\n",
      "    var: 'gene_ids', 'feature_types'\n"
     ]
    }
   ],
   "source": [
    "print(adata_control)\n",
    "print(adata_ACM_treated)"
   ]
  },
  {
   "cell_type": "code",
   "execution_count": 14,
   "metadata": {
    "colab": {
     "base_uri": "https://localhost:8080/"
    },
    "collapsed": true,
    "executionInfo": {
     "elapsed": 202,
     "status": "ok",
     "timestamp": 1748857168205,
     "user": {
      "displayName": "Max von Kolczynski",
      "userId": "07480350159207998007"
     },
     "user_tz": -120
    },
    "id": "g7oRU9FRk_sr",
    "outputId": "f5d9c1dc-4451-404e-b22c-366d3d256cd8"
   },
   "outputs": [
    {
     "name": "stdout",
     "output_type": "stream",
     "text": [
      "<Compressed Sparse Column sparse matrix of dtype 'float32'\n",
      "\twith 10748906 stored elements and shape (10000, 36601)>\n",
      "  Coords\tValues\n",
      "  (6952, 0)\t1.0\n",
      "  (1686, 3)\t1.0\n",
      "  (1852, 3)\t1.0\n",
      "  (3875, 3)\t1.0\n",
      "  (1363, 6)\t1.0\n",
      "  (2018, 6)\t1.0\n",
      "  (3467, 6)\t1.0\n",
      "  (4194, 6)\t1.0\n",
      "  (4257, 6)\t1.0\n",
      "  (5060, 6)\t1.0\n",
      "  (7982, 6)\t1.0\n",
      "  (8907, 6)\t1.0\n",
      "  (9109, 6)\t1.0\n",
      "  (9406, 6)\t1.0\n",
      "  (9862, 6)\t1.0\n",
      "  (9942, 6)\t1.0\n",
      "  (7532, 7)\t1.0\n",
      "  (8288, 7)\t1.0\n",
      "  (71, 8)\t1.0\n",
      "  (7287, 8)\t1.0\n",
      "  (5665, 13)\t1.0\n",
      "  (5897, 13)\t1.0\n",
      "  (5, 14)\t1.0\n",
      "  (10, 14)\t1.0\n",
      "  (33, 14)\t1.0\n",
      "  :\t:\n",
      "  (8891, 36599)\t1.0\n",
      "  (8975, 36599)\t1.0\n",
      "  (9028, 36599)\t1.0\n",
      "  (9062, 36599)\t1.0\n",
      "  (9067, 36599)\t1.0\n",
      "  (9121, 36599)\t1.0\n",
      "  (9144, 36599)\t1.0\n",
      "  (9154, 36599)\t1.0\n",
      "  (9291, 36599)\t1.0\n",
      "  (9332, 36599)\t1.0\n",
      "  (9401, 36599)\t1.0\n",
      "  (9429, 36599)\t1.0\n",
      "  (9511, 36599)\t1.0\n",
      "  (9514, 36599)\t1.0\n",
      "  (9621, 36599)\t1.0\n",
      "  (9635, 36599)\t1.0\n",
      "  (9744, 36599)\t1.0\n",
      "  (9746, 36599)\t1.0\n",
      "  (9781, 36599)\t1.0\n",
      "  (9858, 36599)\t1.0\n",
      "  (9908, 36599)\t1.0\n",
      "  (9986, 36599)\t1.0\n",
      "  (6235, 36600)\t1.0\n",
      "  (8371, 36600)\t1.0\n",
      "  (9435, 36600)\t1.0\n",
      "<Compressed Sparse Column sparse matrix of dtype 'float32'\n",
      "\twith 10170667 stored elements and shape (10000, 36601)>\n",
      "  Coords\tValues\n",
      "  (5633, 3)\t1.0\n",
      "  (46, 6)\t1.0\n",
      "  (1300, 6)\t1.0\n",
      "  (1903, 6)\t1.0\n",
      "  (1966, 6)\t1.0\n",
      "  (1989, 6)\t1.0\n",
      "  (2280, 6)\t1.0\n",
      "  (3692, 6)\t1.0\n",
      "  (4499, 6)\t1.0\n",
      "  (4906, 6)\t1.0\n",
      "  (5344, 6)\t1.0\n",
      "  (6678, 6)\t1.0\n",
      "  (7793, 6)\t1.0\n",
      "  (8617, 6)\t1.0\n",
      "  (8913, 6)\t1.0\n",
      "  (9349, 6)\t1.0\n",
      "  (2215, 7)\t1.0\n",
      "  (2367, 7)\t1.0\n",
      "  (4529, 7)\t1.0\n",
      "  (507, 13)\t1.0\n",
      "  (1930, 13)\t1.0\n",
      "  (1998, 13)\t1.0\n",
      "  (3273, 13)\t1.0\n",
      "  (3312, 13)\t1.0\n",
      "  (5653, 13)\t1.0\n",
      "  :\t:\n",
      "  (8985, 36599)\t1.0\n",
      "  (9021, 36599)\t2.0\n",
      "  (9026, 36599)\t1.0\n",
      "  (9027, 36599)\t1.0\n",
      "  (9092, 36599)\t1.0\n",
      "  (9175, 36599)\t1.0\n",
      "  (9266, 36599)\t1.0\n",
      "  (9295, 36599)\t1.0\n",
      "  (9296, 36599)\t1.0\n",
      "  (9311, 36599)\t1.0\n",
      "  (9331, 36599)\t1.0\n",
      "  (9353, 36599)\t1.0\n",
      "  (9395, 36599)\t1.0\n",
      "  (9423, 36599)\t1.0\n",
      "  (9545, 36599)\t1.0\n",
      "  (9707, 36599)\t1.0\n",
      "  (9727, 36599)\t1.0\n",
      "  (9784, 36599)\t1.0\n",
      "  (9862, 36599)\t1.0\n",
      "  (9880, 36599)\t1.0\n",
      "  (9885, 36599)\t1.0\n",
      "  (9945, 36599)\t1.0\n",
      "  (9971, 36599)\t1.0\n",
      "  (5730, 36600)\t1.0\n",
      "  (9108, 36600)\t1.0\n"
     ]
    }
   ],
   "source": [
    "print(adata_control.X)\n",
    "print(adata_ACM_treated.X)"
   ]
  }
 ],
 "metadata": {
  "colab": {
   "authorship_tag": "ABX9TyNHUZjuuk7F5PGD7qFjEMF5",
   "provenance": []
  },
  "kernelspec": {
   "display_name": "base",
   "language": "python",
   "name": "python3"
  },
  "language_info": {
   "codemirror_mode": {
    "name": "ipython",
    "version": 3
   },
   "file_extension": ".py",
   "mimetype": "text/x-python",
   "name": "python",
   "nbconvert_exporter": "python",
   "pygments_lexer": "ipython3",
   "version": "3.11.7"
  }
 },
 "nbformat": 4,
 "nbformat_minor": 0
}
